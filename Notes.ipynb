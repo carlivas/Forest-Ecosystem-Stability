{
 "cells": [
  {
   "cell_type": "markdown",
   "metadata": {},
   "source": [
    "# Notes\n",
    "- Different species\n",
    "- Gap phase replacement\n",
    "- Spatial field\n",
    "\n",
    "# To-do\n",
    "- Implement plant reproduction (either as a method in the Plant class or in the Simulation class)\n",
    "- Write your own quadtree class and add a method for removing objects from it to speed up collision detection (removing dead plants before checking collisions)\n",
    "- Inform initial spatial and size distributions\n",
    "- Inform reproductive mechanism (range, probability, etc.)\n",
    "- Inform mortality mechanism\n",
    "- Fix new plant spawns showing up for one frame and then getting killed\n",
    "- ~~Add find collisions to Simulation class~~\n",
    "- ~~Move plants list and simulation_states list to Simulation class~~\n",
    "- ~~Fix Plant .kill() method~~\n",
    "- ~~replace .update_color() method to set_color() in Plant class~~\n",
    "- ~~add simulation.step() method to Simulation class~~"
   ]
  },
  {
   "cell_type": "code",
   "execution_count": 3,
   "metadata": {},
   "outputs": [
    {
     "data": {
      "text/plain": [
       "array([[0.1, 0.2]])"
      ]
     },
     "execution_count": 3,
     "metadata": {},
     "output_type": "execute_result"
    }
   ],
   "source": [
    "import numpy as np\n",
    "a = np.array([0.1, 0.2])"
   ]
  },
  {
   "cell_type": "code",
   "execution_count": null,
   "metadata": {},
   "outputs": [],
   "source": []
  }
 ],
 "metadata": {
  "kernelspec": {
   "display_name": "Python 3",
   "language": "python",
   "name": "python3"
  },
  "language_info": {
   "codemirror_mode": {
    "name": "ipython",
    "version": 3
   },
   "file_extension": ".py",
   "mimetype": "text/x-python",
   "name": "python",
   "nbconvert_exporter": "python",
   "pygments_lexer": "ipython3",
   "version": "3.11.9"
  }
 },
 "nbformat": 4,
 "nbformat_minor": 2
}
