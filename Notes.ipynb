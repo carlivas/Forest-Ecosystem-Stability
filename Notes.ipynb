{
 "cells": [
  {
   "cell_type": "markdown",
   "metadata": {},
   "source": [
    "# Notes\n",
    "- Different species\n",
    "- Gap phase replacement\n",
    "- Spatial field\n",
    "\n",
    "# To-do\n",
    "- Inform initial spatial and size distributions\n",
    "- Inform reproductive mechanism (range, probability, etc.)\n",
    "- Inform mortality mechanism\n",
    "- Make the viewer more interactive (zoom and move around, play, reverse, speed up, slow down)\n",
    "- ~~Write your own quadtree class and add a method for removing objects from it to speed up collision detection~~\n",
    "- ~~Implement plant reproduction (either as a method in the Plant class or in the Simulation class)~~\n",
    "- ~~Fix new plant spawns showing up for one frame and then getting killed~~\n",
    "- ~~Add find collisions to Simulation class~~\n",
    "- ~~Move plants list and states list to Simulation class~~\n",
    "- ~~Fix Plant .kill() method~~\n",
    "- ~~replace .update_color() method to set_color() in Plant class~~\n",
    "- ~~add simulation.step() method to Simulation class~~"
   ]
  },
  {
   "cell_type": "markdown",
   "metadata": {},
   "source": [
    "We want to ensure that the initial area per plant is constant regardless of how many plants we start with. Our simulation domain in our arbitrary units ($u$) has an area of\n",
    "$$A_\\mathrm{sim} = Y \\,u^2,$$\n",
    "where $Y$ is a floating point number. Now, if we want $X$ $\\mathrm{m}^2$ per plant, and we have $N$ plants that gives a total area of\n",
    "$$A_\\mathrm{real} = N X \\,\\mathrm{m}^2,$$\n",
    "where $N$ is an integer and $X$ is a floating point number. Thus the conversion factor from our arbitrary units $u$ to meters $\\mathrm{m}$ can be obtained\n",
    "$$\\begin{align}\n",
    "1 = \\frac{A_\\mathrm{sim}}{A_\\mathrm{real}} &= \\frac{Y}{N X}\\frac{u^2}{\\mathrm{m}^2}\\\\\n",
    "\\frac{\\mathrm{m}}{u} &= \\sqrt{\\frac{Y}{NX}}.\n",
    "\\end{align}$$\n",
    "\n",
    "If we for example have a domain with area $A_\\mathrm{sim} = Y \\, u^2 = 1 \\, u^2$ and we have $N = 10\\,000$ plants which each with $X = 100 \\, \\mathrm{m^2}$ allocated, we get a conversion factor of\n",
    "$$\\begin{align}\n",
    "    1 \\, \\mathrm{m} = \\sqrt{\\frac{1}{10\\,000 \\cdot 100}} \\, u = \\sqrt{10^{-6}} = 10^{-3} \\, u\n",
    "\\end{align}$$"
   ]
  },
  {
   "cell_type": "code",
   "execution_count": 22,
   "metadata": {},
   "outputs": [
    {
     "name": "stdout",
     "output_type": "stream",
     "text": [
      "4 [0, 1, 2, 3, 4]\n",
      "9 [5, 6, 7, 8, 9]\n",
      "14 [10, 11, 12, 13, 14]\n",
      "19 [15, 16, 17, 18, 19]\n",
      "24 [20, 21, 22, 23, 24]\n",
      "29 [25, 26, 27, 28, 29]\n",
      "34 [30, 31, 32, 33, 34]\n",
      "39 [35, 36, 37, 38, 39]\n",
      "44 [40, 41, 42, 43, 44]\n",
      "49 [45, 46, 47, 48, 49]\n",
      "54 [50, 51, 52, 53, 54]\n",
      "59 [55, 56, 57, 58, 59]\n",
      "64 [60, 61, 62, 63, 64]\n",
      "69 [65, 66, 67, 68, 69]\n",
      "74 [70, 71, 72, 73, 74]\n",
      "79 [75, 76, 77, 78, 79]\n",
      "84 [80, 81, 82, 83, 84]\n",
      "89 [85, 86, 87, 88, 89]\n",
      "94 [90, 91, 92, 93, 94]\n",
      "99 [95, 96, 97, 98, 99]\n",
      "[0, 1, 2, 3, 4]\n"
     ]
    }
   ],
   "source": [
    "import numpy as np\n",
    "import matplotlib.pyplot as plt\n",
    "import pickle\n",
    "\n",
    "def save_chunk(filename, chunk):\n",
    "    with open(filename, 'wb') as f:\n",
    "        pickle.dump(chunk, f)\n",
    "\n",
    "class test_state():\n",
    "    def __init__(self, t):\n",
    "        self.t = t\n",
    "        \n",
    "    def __repr__(self):\n",
    "        return f't={self.t}'\n",
    "\n",
    "import numpy as np\n",
    "import matplotlib.pyplot as plt\n",
    "import pickle\n",
    "\n",
    "def save_chunk(filename, chunk):\n",
    "    with open(filename, 'wb') as f:\n",
    "        pickle.dump(chunk, f)\n",
    "\n",
    "class test_state():\n",
    "    def __init__(self, t):\n",
    "        self.t = t\n",
    "        \n",
    "    def __repr__(self):\n",
    "        return f't={self.t}'\n",
    "\n",
    "chunk_size = 5\n",
    "chunk = [0]\n",
    "\n",
    "# Use the existing chunk and chunk_size\n",
    "if len(chunk) == chunk_size:\n",
    "    save_chunk(r'Data\\test.pkl', chunk)\n",
    "    chunk.pop(0)\n",
    "\n",
    "# Use the existing n_iter\n",
    "# Run simulation\n",
    "with open(r'Data\\test.pkl', 'wb') as f:\n",
    "    for t in range(1, n_iter):\n",
    "        chunk.append(t)\n",
    "        if len(chunk) == chunk_size:\n",
    "            print(t, chunk)\n",
    "            pickle.dump(chunk, f)\n",
    "            chunk = []\n",
    "\n",
    "with open(r'Data\\test.pkl', 'rb') as f:\n",
    "    loaded_chunk = pickle.load(f)\n",
    "print(loaded_chunk)"
   ]
  },
  {
   "cell_type": "code",
   "execution_count": null,
   "metadata": {},
   "outputs": [],
   "source": []
  }
 ],
 "metadata": {
  "kernelspec": {
   "display_name": "Python 3",
   "language": "python",
   "name": "python3"
  },
  "language_info": {
   "codemirror_mode": {
    "name": "ipython",
    "version": 3
   },
   "file_extension": ".py",
   "mimetype": "text/x-python",
   "name": "python",
   "nbconvert_exporter": "python",
   "pygments_lexer": "ipython3",
   "version": "3.11.9"
  }
 },
 "nbformat": 4,
 "nbformat_minor": 2
}
