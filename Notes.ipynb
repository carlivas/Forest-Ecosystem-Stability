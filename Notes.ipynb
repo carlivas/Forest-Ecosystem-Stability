{
 "cells": [
  {
   "cell_type": "markdown",
   "metadata": {},
   "source": [
    "# Notes\n",
    "- Different species\n",
    "- Gap phase replacement\n",
    "- Spatial field\n",
    "\n",
    "# To-do\n",
    "- Inform initial spatial and size distributions\n",
    "- Inform reproductive mechanism (range, probability, etc.)\n",
    "- Inform mortality mechanism\n",
    "- Make the viewer more interactive (zoom and move around, play, reverse, speed up, slow down)\n",
    "- ~~Write your own quadtree class and add a method for removing objects from it to speed up collision detection~~\n",
    "- ~~Implement plant reproduction (either as a method in the Plant class or in the Simulation class)~~\n",
    "- ~~Fix new plant spawns showing up for one frame and then getting killed~~\n",
    "- ~~Add find collisions to Simulation class~~\n",
    "- ~~Move plants list and states list to Simulation class~~\n",
    "- ~~Fix Plant .kill() method~~\n",
    "- ~~replace .update_color() method to set_color() in Plant class~~\n",
    "- ~~add simulation.step() method to Simulation class~~"
   ]
  },
  {
   "cell_type": "markdown",
   "metadata": {},
   "source": [
    "We want to ensure that the initial area per plant is constant regardless of how many plants we start with. Our simulation domain in our arbitrary units ($u$) has an area of\n",
    "$$A_\\mathrm{sim} = Y \\,u^2,$$\n",
    "where $Y$ is a floating point number. Now, if we want $X$ $\\mathrm{m}^2$ per plant, and we have $N$ plants that gives a total area of\n",
    "$$A_\\mathrm{real} = N X \\,\\mathrm{m}^2,$$\n",
    "where $N$ is an integer and $X$ is a floating point number. Thus the conversion factor from our arbitrary units $u$ to meters $\\mathrm{m}$ can be obtained\n",
    "$$\\begin{align}\n",
    "1 = \\frac{A_\\mathrm{sim}}{A_\\mathrm{real}} &= \\frac{Y}{N X}\\frac{u^2}{\\mathrm{m}^2}\\\\\n",
    "\\frac{\\mathrm{m}}{u} &= \\sqrt{\\frac{Y}{NX}}.\n",
    "\\end{align}$$\n",
    "\n",
    "If we for example have a domain with area $A_\\mathrm{sim} = Y \\, u^2 = 1 \\, u^2$ and we have $N = 10\\,000$ plants which each with $X = 100 \\, \\mathrm{m^2}$ allocated, we get a conversion factor of\n",
    "$$\\begin{align}\n",
    "    1 \\, \\mathrm{m} = \\sqrt{\\frac{1}{10\\,000 \\cdot 100}} \\, u = \\sqrt{10^{-6}} = 10^{-3} \\, u\n",
    "\\end{align}$$"
   ]
  },
  {
   "cell_type": "code",
   "execution_count": 84,
   "metadata": {},
   "outputs": [
    {
     "name": "stdout",
     "output_type": "stream",
     "text": [
      "33.333333333333336\n"
     ]
    },
    {
     "data": {
      "text/plain": [
       "[<matplotlib.lines.Line2D at 0x151f29ede90>]"
      ]
     },
     "execution_count": 84,
     "metadata": {},
     "output_type": "execute_result"
    },
    {
     "data": {
      "image/png": "[encoded data removed]",
      "text/plain": [
       "<Figure size 640x480 with 1 Axes>"
      ]
     },
     "metadata": {},
     "output_type": "display_data"
    }
   ],
   "source": [
    "import numpy as np\n",
    "import matplotlib.pyplot as plt\n",
    "fps = 30\n",
    "fps_max = 100\n",
    "divisor = 3\n",
    "fps_dummy = fps_max / divisor\n",
    "print(fps_dummy)\n",
    "frame = np.arange(0, fps_max)\n",
    "plt.plot(frame, frame % (fps_max/fps_dummy) == 0, '.')\n"
   ]
  },
  {
   "cell_type": "code",
   "execution_count": null,
   "metadata": {},
   "outputs": [],
   "source": []
  }
 ],
 "metadata": {
  "kernelspec": {
   "display_name": "Python 3",
   "language": "python",
   "name": "python3"
  },
  "language_info": {
   "codemirror_mode": {
    "name": "ipython",
    "version": 3
   },
   "file_extension": ".py",
   "mimetype": "text/x-python",
   "name": "python",
   "nbconvert_exporter": "python",
   "pygments_lexer": "ipython3",
   "version": "3.11.9"
  }
 },
 "nbformat": 4,
 "nbformat_minor": 2
}
